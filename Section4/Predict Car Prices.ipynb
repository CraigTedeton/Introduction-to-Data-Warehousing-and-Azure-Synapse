{
  "metadata": {
    "language_info": {
      "name": "python"
    },
    "sessionKeepAliveTimeout": 30
  },
  "nbformat": 4,
  "nbformat_minor": 2,
  "cells": [
    {
      "cell_type": "markdown",
      "metadata": {},
      "source": [
        "## Predict Car Prices"
      ],
      "attachments": {}
    },
    {
      "cell_type": "markdown",
      "metadata": {},
      "source": [
        "Use car_prices_bmw_audi_benz.parquet file has car sell prices for 3 different models. First plot data points on a scatter plot chart to see if linear regression model can be applied. If yes, then build a model that can answer following questions:\n",
        "* Predict price of a mercedez benz that is 4 yr old with mileage 45000\n",
        "* Predict price of a BMW X5 that is 7 yr old with mileage 86000\n",
        "* Tell the score (accuracy) of your model (hint: use LinearRegression().score())\n",
        "\n",
        "Adapted from: https://github.com/vitalii-levko/ML_codebasics/blob/master/4_one_hot_encoding.ipynb\n",
        ""
      ],
      "attachments": {}
    },
    {
      "cell_type": "code",
      "execution_count": 4,
      "outputs": [
        {
          "execution_count": 4,
          "output_type": "execute_result",
          "data": {
            "text/plain": "+--------------------+---------+-------------+---+\n|                name|km_driven|selling_price|Age|\n+--------------------+---------+-------------+---+\n|              BMW X5|    69000|        18000|  6|\n|              BMW X5|    35000|        34000|  3|\n|              BMW X5|    57000|        26100|  5|\n|              BMW X5|    22500|        40000|  2|\n|              BMW X5|    46000|        31500|  4|\n|             Audi A5|    59000|        29400|  5|\n|             Audi A5|    52000|        32000|  5|\n|             Audi A5|    72000|        19300|  6|\n|             Audi A5|    91000|        12000|  8|\n|Mercedez Benz C c...|    67000|        22000|  6|\n|Mercedez Benz C c...|    83000|        20000|  7|\n|Mercedez Benz C c...|    79000|        21000|  7|\n|Mercedez Benz C c...|    59000|        33000|  5|\n+--------------------+---------+-------------+---+"
          },
          "metadata": {}
        }
      ],
      "metadata": {},
      "source": [
        "%%pyspark\n",
        "data_path = spark.read.load('abfss://azureudemeycoursewsfs@azureudemeycoursewsadls.dfs.core.windows.net/car_prices_bmw_audi_benz.parquet', format='parquet')\n",
        "data_path.show(100)"
      ],
      "attachments": {}
    },
    {
      "cell_type": "code",
      "execution_count": 5,
      "outputs": [],
      "metadata": {},
      "source": [
        "%%pyspark\n",
        "data_path.registerTempTable(\"car_prices_bmw_audi_benz\")"
      ],
      "attachments": {}
    },
    {
      "cell_type": "code",
      "execution_count": 6,
      "outputs": [
        {
          "execution_count": 6,
          "output_type": "execute_result",
          "data": {
            "application/json": {
              "isSummary": false,
              "language": "sql",
              "table": {
                "rows": [
                  {
                    "name": "BMW X5",
                    "km_driven": "69000",
                    "selling_price": "18000",
                    "Age": "6"
                  },
                  {
                    "name": "BMW X5",
                    "km_driven": "35000",
                    "selling_price": "34000",
                    "Age": "3"
                  },
                  {
                    "name": "BMW X5",
                    "km_driven": "57000",
                    "selling_price": "26100",
                    "Age": "5"
                  },
                  {
                    "name": "BMW X5",
                    "km_driven": "22500",
                    "selling_price": "40000",
                    "Age": "2"
                  },
                  {
                    "name": "BMW X5",
                    "km_driven": "46000",
                    "selling_price": "31500",
                    "Age": "4"
                  },
                  {
                    "name": "Audi A5",
                    "km_driven": "59000",
                    "selling_price": "29400",
                    "Age": "5"
                  },
                  {
                    "name": "Audi A5",
                    "km_driven": "52000",
                    "selling_price": "32000",
                    "Age": "5"
                  },
                  {
                    "name": "Audi A5",
                    "km_driven": "72000",
                    "selling_price": "19300",
                    "Age": "6"
                  },
                  {
                    "name": "Audi A5",
                    "km_driven": "91000",
                    "selling_price": "12000",
                    "Age": "8"
                  },
                  {
                    "name": "Mercedez Benz C class",
                    "km_driven": "67000",
                    "selling_price": "22000",
                    "Age": "6"
                  },
                  {
                    "name": "Mercedez Benz C class",
                    "km_driven": "83000",
                    "selling_price": "20000",
                    "Age": "7"
                  },
                  {
                    "name": "Mercedez Benz C class",
                    "km_driven": "79000",
                    "selling_price": "21000",
                    "Age": "7"
                  },
                  {
                    "name": "Mercedez Benz C class",
                    "km_driven": "59000",
                    "selling_price": "33000",
                    "Age": "5"
                  }
                ],
                "schema": {
                  "name": "string",
                  "km_driven": "string",
                  "selling_price": "string",
                  "Age": "string"
                }
              }
            }
          },
          "metadata": {}
        }
      ],
      "metadata": {
        "diagram": {
          "activateDiagramType": 1,
          "chartConfig": {
            "category": "bar",
            "keys": [
              "name"
            ],
            "values": [
              "name"
            ],
            "yLabel": "name",
            "xLabel": "name",
            "aggregation": "COUNT",
            "aggByBackend": false
          },
          "aggData": "\"{\\\"name\\\":{\\\"Audi A5\\\":4,\\\"BMW X5\\\":5,\\\"Mercedez Benz C class\\\":4}}\"",
          "isSummary": false,
          "previewData": {
            "filter": null
          },
          "isSql": true
        }
      },
      "source": [
        "%%sql\n",
        "SELECT * FROM car_prices_bmw_audi_benz"
      ],
      "attachments": {}
    },
    {
      "cell_type": "code",
      "execution_count": 7,
      "outputs": [
        {
          "execution_count": 7,
          "output_type": "execute_result",
          "data": {
            "text/plain": "/home/trusted-service-user/cluster-env/env/lib/python3.6/site-packages/pyarrow/util.py:39: FutureWarning: pyarrow.open_stream is deprecated as of 0.17.0, please use pyarrow.ipc.open_stream instead\n  warnings.warn(msg, FutureWarning)"
          },
          "metadata": {}
        }
      ],
      "metadata": {},
      "source": [
        "import pandas as pd\n",
        "import matplotlib.pyplot as plt\n",
        "from sklearn.linear_model import LinearRegression\n",
        "from sklearn.preprocessing import LabelEncoder, OneHotEncoder\n",
        "from sklearn.compose import ColumnTransformer\n",
        "\n",
        "\n",
        "#converting spark dataframe to pandas\n",
        "df = data_path.select(\"*\").toPandas()\n",
        "\n",
        ""
      ],
      "attachments": {}
    },
    {
      "cell_type": "code",
      "execution_count": 31,
      "outputs": [
        {
          "execution_count": 31,
          "output_type": "execute_result",
          "data": {
            "text/plain": "name             0\nkm_driven        0\nselling_price    0\nAge              0\ndtype: int64"
          },
          "metadata": {}
        }
      ],
      "metadata": {},
      "source": [
        "# Checking missing and null values\n",
        "df.isnull().sum()"
      ],
      "attachments": {}
    },
    {
      "cell_type": "code",
      "execution_count": 9,
      "outputs": [
        {
          "execution_count": 9,
          "output_type": "execute_result",
          "data": {
            "text/plain": "name km_driven selling_price Age\n0      1     69000         18000   6\n1      1     35000         34000   3\n2      1     57000         26100   5\n3      1     22500         40000   2\n4      1     46000         31500   4\n5      0     59000         29400   5\n6      0     52000         32000   5\n7      0     72000         19300   6\n8      0     91000         12000   8\n9      2     67000         22000   6\n10     2     83000         20000   7\n11     2     79000         21000   7\n12     2     59000         33000   5"
          },
          "metadata": {}
        }
      ],
      "metadata": {},
      "source": [
        "le = LabelEncoder()\n",
        "dfle = df\n",
        "dfle['name'] = le.fit_transform(dfle['name'])\n",
        "dfle\n",
        ""
      ],
      "attachments": {}
    },
    {
      "cell_type": "code",
      "execution_count": 10,
      "outputs": [
        {
          "execution_count": 10,
          "output_type": "execute_result",
          "data": {
            "text/plain": "array([[1, '69000', '6'],\n       [1, '35000', '3'],\n       [1, '57000', '5'],\n       [1, '22500', '2'],\n       [1, '46000', '4'],\n       [0, '59000', '5'],\n       [0, '52000', '5'],\n       [0, '72000', '6'],\n       [0, '91000', '8'],\n       [2, '67000', '6'],\n       [2, '83000', '7'],\n       [2, '79000', '7'],\n       [2, '59000', '5']], dtype=object)"
          },
          "metadata": {}
        }
      ],
      "metadata": {},
      "source": [
        "X = dfle[['name','km_driven','Age']].values\n",
        "X"
      ],
      "attachments": {}
    },
    {
      "cell_type": "code",
      "execution_count": 11,
      "outputs": [
        {
          "execution_count": 11,
          "output_type": "execute_result",
          "data": {
            "text/plain": "array([['18000'],\n       ['34000'],\n       ['26100'],\n       ['40000'],\n       ['31500'],\n       ['29400'],\n       ['32000'],\n       ['19300'],\n       ['12000'],\n       ['22000'],\n       ['20000'],\n       ['21000'],\n       ['33000']], dtype=object)"
          },
          "metadata": {}
        }
      ],
      "metadata": {},
      "source": [
        "y = dfle[['selling_price']].values\n",
        "y"
      ],
      "attachments": {}
    },
    {
      "cell_type": "code",
      "execution_count": 12,
      "outputs": [
        {
          "execution_count": 12,
          "output_type": "execute_result",
          "data": {
            "text/plain": "array([[0.0, 1.0, 0.0, '69000', '6'],\n       [0.0, 1.0, 0.0, '35000', '3'],\n       [0.0, 1.0, 0.0, '57000', '5'],\n       [0.0, 1.0, 0.0, '22500', '2'],\n       [0.0, 1.0, 0.0, '46000', '4'],\n       [1.0, 0.0, 0.0, '59000', '5'],\n       [1.0, 0.0, 0.0, '52000', '5'],\n       [1.0, 0.0, 0.0, '72000', '6'],\n       [1.0, 0.0, 0.0, '91000', '8'],\n       [0.0, 0.0, 1.0, '67000', '6'],\n       [0.0, 0.0, 1.0, '83000', '7'],\n       [0.0, 0.0, 1.0, '79000', '7'],\n       [0.0, 0.0, 1.0, '59000', '5']], dtype=object)"
          },
          "metadata": {}
        }
      ],
      "metadata": {},
      "source": [
        "\n",
        "\n",
        "X[:,0] = le.fit_transform(X[:,0])\n",
        "ct = ColumnTransformer([(\"Car Info\", OneHotEncoder(), [0])], remainder = 'passthrough')\n",
        "X = ct.fit_transform(X)\n",
        "X\n",
        ""
      ],
      "attachments": {}
    },
    {
      "cell_type": "code",
      "execution_count": null,
      "outputs": [],
      "metadata": {},
      "source": [
        "\n",
        "X = X[:,1:]\n",
        "X"
      ],
      "attachments": {}
    },
    {
      "cell_type": "code",
      "execution_count": 14,
      "outputs": [
        {
          "execution_count": 14,
          "output_type": "execute_result",
          "data": {
            "text/plain": "LinearRegression()"
          },
          "metadata": {}
        }
      ],
      "metadata": {},
      "source": [
        "model = LinearRegression()\n",
        "model.fit(X,y)\n",
        ""
      ],
      "attachments": {}
    },
    {
      "cell_type": "code",
      "execution_count": 15,
      "outputs": [
        {
          "execution_count": 15,
          "output_type": "execute_result",
          "data": {
            "text/plain": "0.9417050937281082"
          },
          "metadata": {}
        }
      ],
      "metadata": {},
      "source": [
        "model.score(X,y)"
      ],
      "attachments": {}
    },
    {
      "cell_type": "code",
      "execution_count": 16,
      "outputs": [
        {
          "execution_count": 16,
          "output_type": "execute_result",
          "data": {
            "text/plain": "array([[36991.31721062]])"
          },
          "metadata": {}
        }
      ],
      "metadata": {},
      "source": [
        "model.predict([[0,1,45000,4]])\n",
        "#Predicted price of a mercedez benz that is 4 yr old with mileage 45000 is 36991\n",
        ""
      ],
      "attachments": {}
    },
    {
      "cell_type": "code",
      "execution_count": 17,
      "outputs": [
        {
          "execution_count": 17,
          "output_type": "execute_result",
          "data": {
            "text/plain": "array([[11080.74313219]])"
          },
          "metadata": {}
        }
      ],
      "metadata": {},
      "source": [
        "model.predict([[1,0,86000,7]])\n",
        "\n",
        "#Predicted price of a BMW X5 that is 7 yr old with mileage 86000 is 11080\n",
        ""
      ],
      "attachments": {}
    },
    {
      "cell_type": "code",
      "execution_count": 18,
      "outputs": [
        {
          "execution_count": 18,
          "output_type": "execute_result",
          "data": {
            "text/plain": "array([[43699.30500118]])"
          },
          "metadata": {}
        }
      ],
      "metadata": {},
      "source": [
        "model.predict([[1,1,22500,2]])\n",
        ""
      ],
      "attachments": {}
    }
  ]
}
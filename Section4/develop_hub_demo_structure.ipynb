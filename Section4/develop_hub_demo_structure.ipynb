{
  "metadata": {
    "description": "Develop-Hub Demo",
    "saveOutput": true,
    "language_info": {
      "name": "python"
    }
  },
  "nbformat": 4,
  "nbformat_minor": 2,
  "cells": [
    {
      "cell_type": "markdown",
      "metadata": {},
      "source": [
        "![Image alt text](https://azuresynapseudemycourse.s3-us-west-2.amazonaws.com/develop_hub_demo.png)"
      ],
      "attachments": {}
    }
  ]
}